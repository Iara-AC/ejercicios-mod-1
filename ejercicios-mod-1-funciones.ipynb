{
 "cells": [
  {
   "cell_type": "markdown",
   "metadata": {},
   "source": [
    "Ejercicios Funciones\n"
   ]
  },
  {
   "cell_type": "code",
   "execution_count": 15,
   "metadata": {},
   "outputs": [
    {
     "name": "stdout",
     "output_type": "stream",
     "text": [
      "hola soy hiara\n",
      "<class 'dict'>\n",
      "Este es el diccionario creado con la función: {'h': 2, 'o': 2, 'l': 1, 'a': 3, 's': 1, 'y': 1, 'i': 1, 'r': 1}\n"
     ]
    }
   ],
   "source": [
    "#1. Escribe una función que reciba una cadena de texto como parámetro y devuelva un diccionario con las frecuencias de cada letra en la cadena. Los espacios no deben ser considerados. \n",
    "\n",
    "#definir la función\n",
    "def dic_cad (cadena_texto):\n",
    "    frecuencias = {}\n",
    "    print (type(frecuencias)) #verificar si he creado un diccionario\n",
    "    \n",
    "    for letra in cadena_texto.replace(\" \",\"\"):\n",
    "        if letra in frecuencias:\n",
    "                frecuencias[letra] +=1\n",
    "        else:\n",
    "                frecuencias[letra] = 1\n",
    "    return frecuencias\n",
    "\n",
    "#utilizar la función\n",
    "\n",
    "ejemplo = \"Hola soy hiara\"\n",
    "ejemplo2 = ejemplo.lower()\n",
    "print (ejemplo2) #para verificar que todo esta en minuscula\n",
    "resultado = dic_cad(ejemplo2) \n",
    "print (f\"Este es el diccionario creado con la función: {resultado}\")\n",
    "    "
   ]
  },
  {
   "cell_type": "code",
   "execution_count": 23,
   "metadata": {},
   "outputs": [
    {
     "name": "stdout",
     "output_type": "stream",
     "text": [
      "<class 'list'>\n",
      "<class 'list'>\n",
      "La lista de las palabras con más de 5 letras es: ['contiene', 'palabras', 'grandes', 'palabras', 'pequeñas.']\n"
     ]
    }
   ],
   "source": [
    "#2. Escribe una función que reciba una cadena de texto como parámetro y devuelva una lista con todas las palabras que tienen más de 5 letras.\n",
    "\n",
    "#definir la función\n",
    "def pal_largas (cadena_palabras):\n",
    "    lista1 = cadena_palabras.split() #lista para dividir la cadena en palabras\n",
    "    lista_resultado = [] #lista vacia para añadir las palabras largas\n",
    "    print (type(lista1)) #verificar si he creado una lista\n",
    "    print (type(lista_resultado)) #verificar si he creado una lista\n",
    "\n",
    "    for palabra in lista1:\n",
    "        if len(palabra) > 5:\n",
    "            lista_resultado.append(palabra)\n",
    "        else:\n",
    "            pass\n",
    "    \n",
    "    return lista_resultado\n",
    "\n",
    "\n",
    "#ejemplo utilizando la función:\n",
    "\n",
    "#definir cadena de texto:\n",
    "frase_ejemplo = \"Esta es una frase que contiene palabras grandes y palabras pequeñas.\"\n",
    "\n",
    "#utilizar la funcion con esta cadena:\n",
    "palabras_5 = pal_largas(frase_ejemplo)\n",
    "print(f\"La lista de las palabras con más de 5 letras es: {palabras_5}\")\n"
   ]
  },
  {
   "cell_type": "code",
   "execution_count": 26,
   "metadata": {},
   "outputs": [
    {
     "name": "stdout",
     "output_type": "stream",
     "text": [
      "Las palabras con más de una vocal son: ´['luna', 'perro', 'elemento', 'curso']\n"
     ]
    }
   ],
   "source": [
    "#3. Crea una función que tome una lista de palabras como entrada y devuelva una lista de palabras que contengan más de una vocal.\n",
    "\n",
    "#definir la función: \n",
    "def palabras_vocal (lista_palabras):\n",
    "    lista_salida = []\n",
    "    vocales = \"aeiou\" #definir que son las vocales\n",
    "\n",
    "    for palabra in lista_palabras:\n",
    "        contador_vocal = sum (1 for letra in palabra if letra.lower() in vocales) # aqui estamos contando la cantidad de vocales que hay en las palabras\n",
    "        if contador_vocal > 1: #solo para añadir palabras con más de 1 vocal\n",
    "            lista_salida.append(palabra)\n",
    "        else:\n",
    "            pass\n",
    "    return lista_salida\n",
    "\n",
    "#utilizar la función\n",
    "\n",
    "palabras_prueba = [\"luna\", \"mar\", \"perro\", \"elemento\", \"curso\", \"sol\", \"luz\"]\n",
    "resultado = palabras_vocal (palabras_prueba)\n",
    "print(f\"Las palabras con más de una vocal son: ´{resultado}\")"
   ]
  },
  {
   "cell_type": "code",
   "execution_count": 27,
   "metadata": {},
   "outputs": [
    {
     "name": "stdout",
     "output_type": "stream",
     "text": [
      "La suma de los pares es: 682\n"
     ]
    }
   ],
   "source": [
    "#4. Crea una función que tome una lista de números y calcule la suma de todos los números pares en la lista.\n",
    "\n",
    "def suma_pares (lista_num):\n",
    "    suma_pares = 0\n",
    "\n",
    "    for numero in lista_num:\n",
    "        if numero % 2 == 0:\n",
    "            suma_pares += numero\n",
    "    \n",
    "    return suma_pares\n",
    "\n",
    "#ejemplo para utilizar la función\n",
    "numeros = [1,2,3,6,9,458,6,3,1,7,59,645,66,36,98,10]\n",
    "resultado = suma_pares(numeros)\n",
    "print(f\"La suma de los pares es: {resultado}\")\n"
   ]
  },
  {
   "cell_type": "code",
   "execution_count": 32,
   "metadata": {},
   "outputs": [
    {
     "name": "stdout",
     "output_type": "stream",
     "text": [
      "El promedio es: 88.125\n",
      "-----------------------\n",
      "El promedio es: NO hay promedio de una lista vacia\n",
      "-----------------------\n"
     ]
    }
   ],
   "source": [
    "#5. Escribe una función que tome una lista de números como entrada y calcule el promedio de esos números.\n",
    "\n",
    "def prom (lista_num):\n",
    "    \n",
    "    if len(lista_num) == 0:\n",
    "        return \"NO hay promedio de una lista vacia\"\n",
    "    \n",
    "    suma_total = sum(lista_num)\n",
    "    promedio = suma_total / len(lista_num)\n",
    "\n",
    "    return promedio \n",
    "\n",
    "#ejemplo para utilizar la función\n",
    "\n",
    "lista3 = [1,2,3,6,9,458,6,3,1,7,59,645,66,36,98,10]\n",
    "resultado = prom (lista3)\n",
    "print(f\"El promedio es: {resultado}\")\n",
    "print (\"-----------------------\")\n",
    "\n",
    "lista4 = []\n",
    "resultado = prom (lista4)\n",
    "print(f\"El promedio es: {resultado}\")\n",
    "print (\"-----------------------\")\n"
   ]
  }
 ],
 "metadata": {
  "kernelspec": {
   "display_name": "base",
   "language": "python",
   "name": "python3"
  },
  "language_info": {
   "codemirror_mode": {
    "name": "ipython",
    "version": 3
   },
   "file_extension": ".py",
   "mimetype": "text/x-python",
   "name": "python",
   "nbconvert_exporter": "python",
   "pygments_lexer": "ipython3",
   "version": "3.12.4"
  }
 },
 "nbformat": 4,
 "nbformat_minor": 2
}
