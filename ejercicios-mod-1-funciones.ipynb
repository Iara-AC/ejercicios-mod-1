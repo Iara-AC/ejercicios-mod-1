{
 "cells": [
  {
   "cell_type": "markdown",
   "metadata": {},
   "source": [
    "Ejercicios Funciones\n"
   ]
  },
  {
   "cell_type": "code",
   "execution_count": 15,
   "metadata": {},
   "outputs": [
    {
     "name": "stdout",
     "output_type": "stream",
     "text": [
      "hola soy hiara\n",
      "<class 'dict'>\n",
      "Este es el diccionario creado con la función: {'h': 2, 'o': 2, 'l': 1, 'a': 3, 's': 1, 'y': 1, 'i': 1, 'r': 1}\n"
     ]
    }
   ],
   "source": [
    "#1. Escribe una función que reciba una cadena de texto como parámetro y devuelva un diccionario con las frecuencias de cada letra en la cadena. Los espacios no deben ser considerados. \n",
    "\n",
    "#definir la función\n",
    "def dic_cad (cadena_texto):\n",
    "    frecuencias = {}\n",
    "    print (type(frecuencias)) #verificar si he creado un diccionario\n",
    "    \n",
    "    for letra in cadena_texto.replace(\" \",\"\"):\n",
    "        if letra in frecuencias:\n",
    "                frecuencias[letra] +=1\n",
    "        else:\n",
    "                frecuencias[letra] = 1\n",
    "    return frecuencias\n",
    "\n",
    "#utilizar la función\n",
    "\n",
    "ejemplo = \"Hola soy hiara\"\n",
    "ejemplo2 = ejemplo.lower()\n",
    "print (ejemplo2) #para verificar que todo esta en minuscula\n",
    "resultado = dic_cad(ejemplo2) \n",
    "print (f\"Este es el diccionario creado con la función: {resultado}\")\n",
    "    "
   ]
  },
  {
   "cell_type": "code",
   "execution_count": 23,
   "metadata": {},
   "outputs": [
    {
     "name": "stdout",
     "output_type": "stream",
     "text": [
      "<class 'list'>\n",
      "<class 'list'>\n",
      "La lista de las palabras con más de 5 letras es: ['contiene', 'palabras', 'grandes', 'palabras', 'pequeñas.']\n"
     ]
    }
   ],
   "source": [
    "#2. Escribe una función que reciba una cadena de texto como parámetro y devuelva una lista con todas las palabras que tienen más de 5 letras.\n",
    "\n",
    "#definir la función\n",
    "def pal_largas (cadena_palabras):\n",
    "    lista1 = cadena_palabras.split() #lista para dividir la cadena en palabras\n",
    "    lista_resultado = [] #lista vacia para añadir las palabras largas\n",
    "    print (type(lista1)) #verificar si he creado una lista\n",
    "    print (type(lista_resultado)) #verificar si he creado una lista\n",
    "\n",
    "    for palabra in lista1:\n",
    "        if len(palabra) > 5:\n",
    "            lista_resultado.append(palabra)\n",
    "        else:\n",
    "            pass\n",
    "    \n",
    "    return lista_resultado\n",
    "\n",
    "\n",
    "#ejemplo utilizando la función:\n",
    "\n",
    "#definir cadena de texto:\n",
    "frase_ejemplo = \"Esta es una frase que contiene palabras grandes y palabras pequeñas.\"\n",
    "\n",
    "#utilizar la funcion con esta cadena:\n",
    "palabras_5 = pal_largas(frase_ejemplo)\n",
    "print(f\"La lista de las palabras con más de 5 letras es: {palabras_5}\")\n"
   ]
  },
  {
   "cell_type": "code",
   "execution_count": 26,
   "metadata": {},
   "outputs": [
    {
     "name": "stdout",
     "output_type": "stream",
     "text": [
      "Las palabras con más de una vocal son: ´['luna', 'perro', 'elemento', 'curso']\n"
     ]
    }
   ],
   "source": [
    "#3. Crea una función que tome una lista de palabras como entrada y devuelva una lista de palabras que contengan más de una vocal.\n",
    "\n",
    "#definir la función: \n",
    "def palabras_vocal (lista_palabras):\n",
    "    lista_salida = []\n",
    "    vocales = \"aeiou\" #definir que son las vocales\n",
    "\n",
    "    for palabra in lista_palabras:\n",
    "        contador_vocal = sum (1 for letra in palabra if letra.lower() in vocales) # aqui estamos contando la cantidad de vocales que hay en las palabras\n",
    "        if contador_vocal > 1: #solo para añadir palabras con más de 1 vocal\n",
    "            lista_salida.append(palabra)\n",
    "        else:\n",
    "            pass\n",
    "    return lista_salida\n",
    "\n",
    "#utilizar la función\n",
    "\n",
    "palabras_prueba = [\"luna\", \"mar\", \"perro\", \"elemento\", \"curso\", \"sol\", \"luz\"]\n",
    "resultado = palabras_vocal (palabras_prueba)\n",
    "print(f\"Las palabras con más de una vocal son: ´{resultado}\")"
   ]
  },
  {
   "cell_type": "code",
   "execution_count": 27,
   "metadata": {},
   "outputs": [
    {
     "name": "stdout",
     "output_type": "stream",
     "text": [
      "La suma de los pares es: 682\n"
     ]
    }
   ],
   "source": [
    "#4. Crea una función que tome una lista de números y calcule la suma de todos los números pares en la lista.\n",
    "\n",
    "def suma_pares (lista_num):\n",
    "    suma_pares = 0\n",
    "\n",
    "    for numero in lista_num:\n",
    "        if numero % 2 == 0:\n",
    "            suma_pares += numero\n",
    "    \n",
    "    return suma_pares\n",
    "\n",
    "#ejemplo para utilizar la función\n",
    "numeros = [1,2,3,6,9,458,6,3,1,7,59,645,66,36,98,10]\n",
    "resultado = suma_pares(numeros)\n",
    "print(f\"La suma de los pares es: {resultado}\")\n"
   ]
  },
  {
   "cell_type": "code",
   "execution_count": 32,
   "metadata": {},
   "outputs": [
    {
     "name": "stdout",
     "output_type": "stream",
     "text": [
      "El promedio es: 88.125\n",
      "-----------------------\n",
      "El promedio es: NO hay promedio de una lista vacia\n",
      "-----------------------\n"
     ]
    }
   ],
   "source": [
    "#5. Escribe una función que tome una lista de números como entrada y calcule el promedio de esos números.\n",
    "\n",
    "def prom (lista_num):\n",
    "    \n",
    "    if len(lista_num) == 0:\n",
    "        return \"NO hay promedio de una lista vacia\"\n",
    "    \n",
    "    suma_total = sum(lista_num)\n",
    "    promedio = suma_total / len(lista_num)\n",
    "\n",
    "    return promedio \n",
    "\n",
    "#ejemplo para utilizar la función\n",
    "\n",
    "lista3 = [1,2,3,6,9,458,6,3,1,7,59,645,66,36,98,10]\n",
    "resultado = prom (lista3)\n",
    "print(f\"El promedio es: {resultado}\")\n",
    "print (\"-----------------------\")\n",
    "\n",
    "lista4 = []\n",
    "resultado = prom (lista4)\n",
    "print(f\"El promedio es: {resultado}\")\n",
    "print (\"-----------------------\")\n"
   ]
  },
  {
   "cell_type": "code",
   "execution_count": 49,
   "metadata": {},
   "outputs": [],
   "source": [
    "#6.\n",
    "\n",
    "año = 1991\n",
    "\n",
    "def cumple(fecha_nascimento):\n",
    "    fecha_nascimento +=1\n",
    "\n",
    "    while len(set(str(fecha_nascimento))) != 4:\n",
    "        fecha_nascimento +=1\n",
    "\n",
    "    return (fecha_nascimento)"
   ]
  },
  {
   "cell_type": "code",
   "execution_count": 50,
   "metadata": {},
   "outputs": [
    {
     "data": {
      "text/plain": [
       "2013"
      ]
     },
     "execution_count": 50,
     "metadata": {},
     "output_type": "execute_result"
    }
   ],
   "source": [
    "cumple(año)"
   ]
  },
  {
   "cell_type": "code",
   "execution_count": 39,
   "metadata": {},
   "outputs": [
    {
     "data": {
      "text/plain": [
       "{'1', '8', '9'}"
      ]
     },
     "execution_count": 39,
     "metadata": {},
     "output_type": "execute_result"
    }
   ],
   "source": [
    "x =1981\n",
    "\n",
    "set(str(x))"
   ]
  },
  {
   "cell_type": "code",
   "execution_count": 41,
   "metadata": {},
   "outputs": [
    {
     "data": {
      "text/plain": [
       "False"
      ]
     },
     "execution_count": 41,
     "metadata": {},
     "output_type": "execute_result"
    }
   ],
   "source": [
    "len(set(str(x))) == 4"
   ]
  },
  {
   "cell_type": "code",
   "execution_count": null,
   "metadata": {},
   "outputs": [],
   "source": [
    "lista = [\"a\", \"b\", \"c\", \"a\"]\n",
    "\n",
    "#eliminar variables iguales"
   ]
  },
  {
   "cell_type": "code",
   "execution_count": 53,
   "metadata": {},
   "outputs": [],
   "source": [
    "#7. \n",
    "\n",
    "def cocinar(receta, disponible):\n",
    "    \n",
    "    n_pasteles = []\n",
    "\n",
    "    for ing in receta:\n",
    "        if ing not in disponible:\n",
    "            return \"No se puede hacer\"\n",
    "        else:\n",
    "            n_pasteles.append(disponible[ing]//receta[ing])\n",
    "    \n",
    "    return min(n_pasteles)\n"
   ]
  },
  {
   "cell_type": "code",
   "execution_count": 54,
   "metadata": {},
   "outputs": [],
   "source": [
    "receta1 = {'flour': 500, 'sugar': 200, 'eggs': 1}\n",
    "\n",
    "ingredientes1 = {'flour': 1200, 'sugar': 1200, 'eggs': 5, 'milk': 200}"
   ]
  },
  {
   "cell_type": "code",
   "execution_count": 56,
   "metadata": {},
   "outputs": [
    {
     "name": "stdout",
     "output_type": "stream",
     "text": [
      "Podemos hacer en total solo <function cocinar at 0x7ff8b4d307c0>\n"
     ]
    }
   ],
   "source": [
    "cocinar(receta1,ingredientes1)\n",
    "print(f\"Podemos hacer en total solo {cocinar}\")"
   ]
  }
 ],
 "metadata": {
  "kernelspec": {
   "display_name": "base",
   "language": "python",
   "name": "python3"
  },
  "language_info": {
   "codemirror_mode": {
    "name": "ipython",
    "version": 3
   },
   "file_extension": ".py",
   "mimetype": "text/x-python",
   "name": "python",
   "nbconvert_exporter": "python",
   "pygments_lexer": "ipython3",
   "version": "3.12.4"
  }
 },
 "nbformat": 4,
 "nbformat_minor": 2
}
