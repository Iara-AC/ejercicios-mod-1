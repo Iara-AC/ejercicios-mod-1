{
 "cells": [
  {
   "cell_type": "markdown",
   "metadata": {},
   "source": [
    "Ejercicios bucles for\n"
   ]
  },
  {
   "cell_type": "code",
   "execution_count": 29,
   "metadata": {},
   "outputs": [
    {
     "name": "stdout",
     "output_type": "stream",
     "text": [
      "El contenido de la lista 'bajas_temp' es: []\n",
      "-----------------------------------------\n",
      "La lista 'bajas_temp' tendrá estos valores: [2, 1]\n",
      "-----------------------------------------\n",
      "La lista 'bajas_temp' tendrá estos valores: [2, 1]\n"
     ]
    }
   ],
   "source": [
    "# 1. Usando la siguiente lista: \n",
    "\n",
    "temperaturas = [2,45,67,23,45,66,12,1,34,67,99,98,67,64, 44,100]\n",
    "    \n",
    "#Crea tres listas nuevas, donde: \n",
    "\n",
    "#En la primera tengamos temperaturas entre 0 - 10, llama a la nueva lista `bajas_temp`.\n",
    "bajas_temp = [] #crear una lista vacia para el nuevo rango de temperaturas\n",
    "\n",
    "print(f\"El contenido de la lista 'bajas_temp' es: {bajas_temp}\")\n",
    "print(\"-----------------------------------------\")\n",
    "\n",
    "for temp in temperaturas:\n",
    "\n",
    "    if 0 <= temp <= 10:\n",
    "        bajas_temp.append(temp)\n",
    "\n",
    "print(f\"La lista 'bajas_temp' tendrá estos valores: {bajas_temp}\")\n",
    "print(\"-----------------------------------------\")\n",
    "\n",
    "#utilizando la list comprehensions:\n",
    "\n",
    "bajas_temp = [temp for temp in temperaturas if 0 <= temp <= 10]\n",
    "print(f\"La lista 'bajas_temp' tendrá estos valores: {bajas_temp}\")\n",
    "\n",
    "\n",
    "\n"
   ]
  },
  {
   "cell_type": "code",
   "execution_count": 30,
   "metadata": {},
   "outputs": [
    {
     "name": "stdout",
     "output_type": "stream",
     "text": [
      "El contenido de la lista 'medias_temp' es: []\n",
      "-----------------------------------------\n",
      "La lista 'medias_temp' tendrá estos valores: [12]\n",
      "-----------------------------------------\n",
      "La lista 'medias_temp' tendrá estos valores: [12]\n"
     ]
    }
   ],
   "source": [
    "#En la segunda tengamos temperaturas entre 11- 20, llama a la nueva lista `medias_temp`.\n",
    "\n",
    "medias_temp = [] #crear una lista vacia para el nuevo rango de temperaturas\n",
    "\n",
    "print(f\"El contenido de la lista 'medias_temp' es: {medias_temp}\")\n",
    "print(\"-----------------------------------------\")\n",
    "\n",
    "for temp in temperaturas:\n",
    "\n",
    "    if 11 <= temp <= 20:\n",
    "        medias_temp.append(temp)\n",
    "\n",
    "print(f\"La lista 'medias_temp' tendrá estos valores: {medias_temp}\")\n",
    "print(\"-----------------------------------------\")\n",
    "\n",
    "#utilizando la list comprehensions:\n",
    "\n",
    "medias_temp = [temp for temp in temperaturas if 11 <= temp <= 20]\n",
    "print(f\"La lista 'medias_temp' tendrá estos valores: {medias_temp}\")\n"
   ]
  },
  {
   "cell_type": "code",
   "execution_count": 23,
   "metadata": {},
   "outputs": [
    {
     "name": "stdout",
     "output_type": "stream",
     "text": [
      "El contenido de la lista 'altas_temp' es: []\n",
      "-----------------------------------------\n",
      "La lista 'altas_temp' tendrá estos valores: [45, 67, 23, 45, 66, 34, 67, 99, 98, 67, 64, 44, 100]\n",
      "-----------------------------------------\n",
      "La lista 'altas_temp' tendrá estos valores: [45, 67, 23, 45, 66, 34, 67, 99, 98, 67, 64, 44, 100]\n"
     ]
    }
   ],
   "source": [
    "#En la tercera tengamos temperaturas por encima de 20, llama a la nueva lista `altas_temp.\n",
    "\n",
    "altas_temp = [] #crear una lista vacia para el nuevo rango de temperaturas\n",
    "\n",
    "print(f\"El contenido de la lista 'altas_temp' es: {altas_temp}\")\n",
    "print(\"-----------------------------------------\")\n",
    "\n",
    "for temp in temperaturas:\n",
    "\n",
    "    if temp > 20:\n",
    "        altas_temp.append(temp)\n",
    "\n",
    "print(f\"La lista 'altas_temp' tendrá estos valores: {altas_temp}\")\n",
    "print(\"-----------------------------------------\")\n",
    "\n",
    "#utilizando la list comprehensions:\n",
    "\n",
    "altas_temp = [temp for temp in temperaturas if temp > 20]\n",
    "print(f\"La lista 'altas_temp' tendrá estos valores: {altas_temp}\")"
   ]
  },
  {
   "cell_type": "code",
   "execution_count": 33,
   "metadata": {},
   "outputs": [
    {
     "name": "stdout",
     "output_type": "stream",
     "text": [
      "Lista de 'bajas_temp' en fahrenheit: [35.6, 33.8]\n",
      "Lista de 'medias_temp' en fahrenheit: [53.6]\n",
      "Lista de 'altas_temp' en fahrenheit: [113.0, 152.6, 73.4, 113.0, 150.8, 93.2, 152.6, 210.2, 208.4, 152.6, 147.2, 111.2, 212.0]\n"
     ]
    }
   ],
   "source": [
    " # 2. Las temperaturas están grados centígrados. Para cada una de las listas creadas en el ejercicio anterior, convertid las temperaturas a grados fahrenheit\n",
    "\n",
    "    # la relacion de grados celsius y fahrenheit es:\n",
    "    # (0 °C × 9 / 5) + 32 = 32 °F\n",
    "\n",
    "#bajas temperaturas:\n",
    "bajas_temp_F = [(temp * 9 / 5) + 32 for temp in bajas_temp ]\n",
    "\n",
    "print(f\"Lista de 'bajas_temp' en fahrenheit: {bajas_temp_F}\")\n",
    "\n",
    "\n",
    "#medias temperaturas:\n",
    "medias_temp_F = [(temp * 9 / 5) + 32 for temp in medias_temp ]\n",
    "\n",
    "print(f\"Lista de 'medias_temp' en fahrenheit: {medias_temp_F}\")\n",
    "\n",
    "#altas temperaturas:\n",
    "altas_temp_F = [(temp * 9 / 5) + 32 for temp in altas_temp ]\n",
    "\n",
    "print(f\"Lista de 'altas_temp' en fahrenheit: {altas_temp_F}\")"
   ]
  },
  {
   "cell_type": "code",
   "execution_count": 41,
   "metadata": {},
   "outputs": [
    {
     "name": "stdout",
     "output_type": "stream",
     "text": [
      "0\n",
      "1\n",
      "2\n",
      "3\n",
      "4\n",
      "5\n"
     ]
    }
   ],
   "source": [
    "#3. Define e imprime un rango de 0 a 6 (excluido).\n",
    "\n",
    "for x in range(0,6):\n",
    " print(x)"
   ]
  },
  {
   "cell_type": "code",
   "execution_count": 43,
   "metadata": {},
   "outputs": [
    {
     "name": "stdout",
     "output_type": "stream",
     "text": [
      "3\n",
      "4\n",
      "5\n",
      "6\n"
     ]
    }
   ],
   "source": [
    "#4. Define e imprime un rango de 3 a 6 ambos incluidos.\n",
    "for y in range (3,7):\n",
    "    print(y)\n"
   ]
  },
  {
   "cell_type": "code",
   "execution_count": 44,
   "metadata": {},
   "outputs": [
    {
     "name": "stdout",
     "output_type": "stream",
     "text": [
      "6\n",
      "7\n",
      "8\n"
     ]
    }
   ],
   "source": [
    "#5. Define e imprime un rango de 5 a 9 ambos excluidos.\n",
    "\n",
    "for w in range (6,9):\n",
    "    print(w)"
   ]
  },
  {
   "cell_type": "code",
   "execution_count": 45,
   "metadata": {},
   "outputs": [
    {
     "name": "stdout",
     "output_type": "stream",
     "text": [
      "2\n",
      "3\n",
      "4\n"
     ]
    }
   ],
   "source": [
    "#6. Define e imprime un rango de 3 números que empiece en 2.\n",
    "for x in range(2,5):\n",
    "    print(x)"
   ]
  },
  {
   "cell_type": "code",
   "execution_count": 46,
   "metadata": {},
   "outputs": [
    {
     "name": "stdout",
     "output_type": "stream",
     "text": [
      "2\n",
      "5\n",
      "8\n",
      "11\n"
     ]
    }
   ],
   "source": [
    "#7. Define e imprime un rango que empiece en 2, aumentando cada paso por 3, que pare antes de llegar al número 13.\n",
    "for t in range(2,14,3):\n",
    "    print(t)"
   ]
  },
  {
   "cell_type": "code",
   "execution_count": 47,
   "metadata": {},
   "outputs": [
    {
     "name": "stdout",
     "output_type": "stream",
     "text": [
      "1\n",
      "3\n",
      "5\n",
      "7\n",
      "9\n"
     ]
    }
   ],
   "source": [
    "#8. Define e imprime un rango con todos los valores impares que hay hasta 10.\n",
    "for i in range(1,11,2):\n",
    "    print(i)"
   ]
  },
  {
   "cell_type": "code",
   "execution_count": 50,
   "metadata": {},
   "outputs": [
    {
     "name": "stdout",
     "output_type": "stream",
     "text": [
      "[4, 2025, 4489, 529, 2025, 4356, 144, 1, 1156, 4489, 9801, 9604, 4489, 4096, 1936, 10000]\n"
     ]
    }
   ],
   "source": [
    "#9. Crea una lista nueva donde tengamos los números de la lista `temperaturas` elevados al cuadrado. \n",
    "\n",
    "#lista temperaturas:\n",
    "temperaturas = [2,45,67,23,45,66,12,1,34,67,99,98,67,64, 44,100]\n",
    "\n",
    "\n",
    "temperaturas_2 = [temp**2 for temp in temperaturas]\n",
    "print(temperaturas_2)"
   ]
  },
  {
   "cell_type": "code",
   "execution_count": 51,
   "metadata": {},
   "outputs": [
    {
     "name": "stdout",
     "output_type": "stream",
     "text": [
      "[0, 1, 1, 1, 1, 0, 0, 1, 0, 1, 1, 0, 1, 0, 0, 0]\n"
     ]
    }
   ],
   "source": [
    "#10. Crea una lista nueva donde tengamos el resto de la división de cada uno de los números entre 2. \n",
    "\n",
    "resto_division = [num % 2 for num in temperaturas]\n",
    "print(resto_division)"
   ]
  },
  {
   "cell_type": "code",
   "execution_count": 53,
   "metadata": {},
   "outputs": [
    {
     "name": "stdout",
     "output_type": "stream",
     "text": [
      "[2, 45, 67, 23, 45, 66, 12, 1, 34, 67, 99, 98, 67, 64, 44, 100]\n",
      "la lista con los pares es:[2, 66, 12, 34, 98, 64, 44, 100]\n"
     ]
    }
   ],
   "source": [
    "#11. Crea una lista nueva donde tengamos solo los elementos pares de la lista `temperaturas`. \n",
    "\n",
    "print(temperaturas)\n",
    "\n",
    "temp_pares = [temp for temp in temperaturas if temp % 2 == 0]\n",
    "print(f\"la lista con los pares es:{temp_pares}\")"
   ]
  },
  {
   "cell_type": "code",
   "execution_count": 54,
   "metadata": {},
   "outputs": [
    {
     "name": "stdout",
     "output_type": "stream",
     "text": [
      "la lista con los números menores que 50 es: [2, 45, 23, 45, 12, 1, 34, 44]\n"
     ]
    }
   ],
   "source": [
    "#12. Crea una lista nueva donde tengamos solo los elementos que sean menores que 50. \n",
    "\n",
    "temp_men = [temp for temp in temperaturas if temp < 50]\n",
    "print(f\"la lista con los números menores que 50 es: {temp_men}\")"
   ]
  },
  {
   "cell_type": "code",
   "execution_count": 56,
   "metadata": {},
   "outputs": [
    {
     "name": "stdout",
     "output_type": "stream",
     "text": [
      "La lista que estamos utilizando para este ejercicio es la temperaturas: [2, 45, 67, 23, 45, 66, 12, 1, 34, 67, 99, 98, 67, 64, 44, 100]\n",
      "-----------------------------------------\n",
      "Los número que tenemos pares y impares en esta lista , son: ['par', 'impar', 'impar', 'impar', 'impar', 'par', 'par', 'impar', 'par', 'impar', 'impar', 'par', 'impar', 'par', 'par', 'par']\n"
     ]
    }
   ],
   "source": [
    "#13. Crea una lista donde tengamos los valores \"par\" e \"impar\" en función de los valores de la lista original. La lista resultante tiene que ser como la que indicamos a continuación: \n",
    "\n",
    "print(f\"La lista que estamos utilizando para este ejercicio es la temperaturas: {temperaturas}\")\n",
    "\n",
    "print(\"-----------------------------------------\")\n",
    "\n",
    "#para descobrir cada tipo de número y poner el nombre:\n",
    "numeros_tipo = ['par' if temp % 2 == 0 else 'impar' for temp in temperaturas]\n",
    "\n",
    "print(f\"Los número que tenemos pares y impares en esta lista , son: {numeros_tipo}\")"
   ]
  },
  {
   "cell_type": "code",
   "execution_count": 4,
   "metadata": {},
   "outputs": [
    {
     "name": "stdout",
     "output_type": "stream",
     "text": [
      "El número debe ser positivo. Inténtalo de nuevo.\n",
      "Entrada no válida. Por favor, ingresa un número entero.\n",
      "Entrada no válida. Por favor, ingresa un número entero.\n",
      "Has elegido el número: 25\n",
      "-----------------------------------------\n",
      "La suma de los números pares es de 156\n",
      "La suma de los números impares es de 169\n"
     ]
    }
   ],
   "source": [
    "#14. Pide al usuario un número entero positivo y suma los números pares e impares por separado hasta ese número.\n",
    "\n",
    "#usuario tiene que elegir un numero positivo y entero\n",
    "\n",
    "while True:\n",
    "    try:\n",
    "        # Pedir al usuario que ingrese un número\n",
    "        num_positivo = int(input(\"Por favor, elige un número entero positivo: \"))\n",
    "        \n",
    "        # Verificar si el número es positivo\n",
    "        if num_positivo > 0:\n",
    "            print(f\"Has elegido el número: {num_positivo}\")\n",
    "            break  # Salir del bucle porque la entrada del usuario es válida\n",
    "        else:\n",
    "            print(\"El número debe ser positivo. Inténtalo de nuevo.\")\n",
    "    except ValueError:\n",
    "        print(\"Entrada no válida. Por favor, ingresa un número entero.\")\n",
    "\n",
    "\n",
    "print(\"-----------------------------------------\")\n",
    "\n",
    "#definir lo numeros pares e impares\n",
    "pares = [i for i in range(1,num_positivo +1) if i % 2 == 0]\n",
    "impares = [i for i in range(1,num_positivo +1) if i % 2 != 0]\n",
    "\n",
    "#calcular la suma de estos numeros pares e impares\n",
    "suma_pares = sum(pares)\n",
    "suma_impares = sum(impares)\n",
    "\n",
    "print(f\"La suma de los números pares es de {suma_pares}\")\n",
    "print(f\"La suma de los números impares es de {suma_impares}\")"
   ]
  },
  {
   "cell_type": "code",
   "execution_count": 5,
   "metadata": {},
   "outputs": [
    {
     "name": "stdout",
     "output_type": "stream",
     "text": [
      "Frase elegida por el usuario: Hola soy Iara\n",
      "-----------------------------------------\n",
      "La vocal 'a' aparece 3 veces.\n",
      "La vocal 'e' aparece 0 veces.\n",
      "La vocal 'i' aparece 1 veces.\n",
      "La vocal 'o' aparece 2 veces.\n",
      "La vocal 'u' aparece 0 veces.\n"
     ]
    }
   ],
   "source": [
    "#15. Pide al usuario ingresar una cadena y cuenta cuántas veces aparece cada vocal (a, e, i, o, u) en la cadena.\n",
    "\n",
    "cadena_us = input(\"Introduce una frase, por favor:\")\n",
    "print(f\"Frase elegida por el usuario: {cadena_us}\")\n",
    "print(\"-----------------------------------------\")\n",
    "\n",
    "# Inicializar un diccionario para contar las vocales\n",
    "vocales = {'a': 0, 'e': 0, 'i': 0, 'o': 0, 'u': 0}\n",
    "\n",
    "# Recorrer la cadena y contar las vocales\n",
    "for letra in cadena_us.lower():\n",
    "    if letra in vocales:\n",
    "        vocales[letra] += 1\n",
    "\n",
    "# Mostrar el conteo de cada vocal\n",
    "for vocal, cantidad in vocales.items():\n",
    "    print(f\"La vocal '{vocal}' aparece {cantidad} veces.\")\n",
    "\n",
    "\n"
   ]
  }
 ],
 "metadata": {
  "kernelspec": {
   "display_name": "base",
   "language": "python",
   "name": "python3"
  },
  "language_info": {
   "codemirror_mode": {
    "name": "ipython",
    "version": 3
   },
   "file_extension": ".py",
   "mimetype": "text/x-python",
   "name": "python",
   "nbconvert_exporter": "python",
   "pygments_lexer": "ipython3",
   "version": "3.12.4"
  }
 },
 "nbformat": 4,
 "nbformat_minor": 2
}
