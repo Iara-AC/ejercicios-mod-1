{
 "cells": [
  {
   "cell_type": "markdown",
   "metadata": {},
   "source": [
    "Ejercicios Estructuras control\n"
   ]
  },
  {
   "cell_type": "code",
   "execution_count": 4,
   "metadata": {},
   "outputs": [
    {
     "name": "stdout",
     "output_type": "stream",
     "text": [
      "y\n",
      "t\n",
      "h\n",
      "o\n",
      "n\n"
     ]
    }
   ],
   "source": [
    "# 1. Crea una variable que sea igual a \"Python\" y genera un código que nos printee todas las letras menos la \"P\" usando la sentencia `continue`.\n",
    "\n",
    "variable = \"Python\"\n",
    "\n",
    "for letra in variable:\n",
    "    if letra == \"P\":\n",
    "        continue\n",
    "    print(letra)"
   ]
  },
  {
   "cell_type": "code",
   "execution_count": 15,
   "metadata": {},
   "outputs": [
    {
     "name": "stdout",
     "output_type": "stream",
     "text": [
      "h\n",
      "e\n",
      "o\n"
     ]
    }
   ],
   "source": [
    "#2. De la frase `'Hello'` imprime todas las letras que no sean una `'l'` usando `if`.\n",
    "\n",
    "frase = \"Hello\"\n",
    "\n",
    "for let in frase:\n",
    "    if let != 'l':\n",
    "        print(let.lower())"
   ]
  },
  {
   "cell_type": "code",
   "execution_count": 8,
   "metadata": {},
   "outputs": [
    {
     "name": "stdout",
     "output_type": "stream",
     "text": [
      "h\n",
      "e\n",
      "o\n"
     ]
    }
   ],
   "source": [
    "#3. Haz lo mismo que en 2 usando `continue`.\n",
    "\n",
    "frase = \"Hello\"\n",
    "\n",
    "for l in frase:\n",
    "    if l == \"l\":\n",
    "        continue\n",
    "    print(l.lower())"
   ]
  },
  {
   "cell_type": "code",
   "execution_count": 16,
   "metadata": {},
   "outputs": [
    {
     "name": "stdout",
     "output_type": "stream",
     "text": [
      "h\n",
      "e\n",
      "l\n",
      "l\n"
     ]
    }
   ],
   "source": [
    "#4. De la frase `'Hello'` imprime todas las letras parando el bucle si encuentras una `'o'`.\n",
    "\n",
    "frase = \"Hello\"\n",
    "\n",
    "for l in frase:\n",
    "    if l == \"o\":\n",
    "        break\n",
    "    else:\n",
    "        print(l.lower())"
   ]
  },
  {
   "cell_type": "code",
   "execution_count": 21,
   "metadata": {},
   "outputs": [
    {
     "name": "stdout",
     "output_type": "stream",
     "text": [
      "¡Un error!\n"
     ]
    }
   ],
   "source": [
    "#5. Define  la variable `doce = '12'` y `seis = 6`. Intenta sumarlos. En el caso de que te salga un error imprime `'¡Un error!'`. Para eso usa un `try` ... `except`\n",
    "doce = '12' #esto es un str\n",
    "seis = 6    #esto es un int\n",
    "\n",
    "# resultado = doce + seis \n",
    "# print(resultado) # descubrir el nombre del error que sale\n",
    "\n",
    "try:\n",
    "    resultado = doce + seis \n",
    "    print(f\"el resultado de la suma es {resultado}\")\n",
    "except TypeError:\n",
    "    print(\"¡Un error!\")\n",
    "\n",
    "\n"
   ]
  },
  {
   "cell_type": "code",
   "execution_count": 22,
   "metadata": {},
   "outputs": [
    {
     "name": "stdout",
     "output_type": "stream",
     "text": [
      "El resultado de la suma es: 18\n"
     ]
    }
   ],
   "source": [
    "#6. Basándonos en el ejercicio anterior, sin usar un `try` ... `except`, ¿cómo podríamos solucionar el problema? \n",
    "\n",
    "resultado = int(doce) + seis #en este caso estamos transformando 'doce' en un entero antes de sumar\n",
    "print(f\"El resultado de la suma es: {resultado}\")"
   ]
  },
  {
   "cell_type": "code",
   "execution_count": null,
   "metadata": {},
   "outputs": [],
   "source": [
    "#7. Solicita al usuario ingresar números enteros positivos hasta que ingrese un número negativo. Luego, muestra la suma de todos los números pares ingresados.\n",
    "\n",
    "num_usu = input(\"Por favor, ingresa números enteros y positivos:\")"
   ]
  },
  {
   "cell_type": "code",
   "execution_count": 7,
   "metadata": {},
   "outputs": [
    {
     "name": "stdout",
     "output_type": "stream",
     "text": [
      "El resultado de la división es: 1.0\n"
     ]
    }
   ],
   "source": [
    "#8. Solicita al usuario ingresar dos números y muestra el resultado de dividir el primero por el segundo. Asegúrate de manejar la excepción si el segundo número es cero.\n",
    "\n",
    "#solicitar los numeros al usuarios\n",
    "numero1 = float(input(\"Ingresa el primer número: \"))\n",
    "numero2 = float(input(\"Ingresa el segundo número: \"))\n",
    "\n",
    "try:\n",
    "    resultado = numero1 / numero2\n",
    "    print(f\"El resultado de la división es: {resultado}\")\n",
    "\n",
    "except ZeroDivisionError:\n",
    "    print(\"¡Error! No se puede dividir entre cero.\")\n",
    "    numero1 = float(input(\"Ingresa el primer número: \"))\n",
    "    numero2 = float(input(\"Ingresa el segundo número, que no sea cero: \"))\n",
    "    \n",
    "\n",
    "except ValueError:\n",
    "    numero1 = float(input(\"Ingresa el primer número, pero que sea número de verdad: \"))\n",
    "    numero2 = float(input(\"Ingresa el segundo número: \"))\n",
    "    print(numero1/numero2)\n",
    "\n"
   ]
  },
  {
   "cell_type": "code",
   "execution_count": null,
   "metadata": {},
   "outputs": [],
   "source": [
    "#9. Solicita al usuario ingresar un número y muestra su raíz cuadrada. Maneja la excepción si el número es negativo."
   ]
  },
  {
   "cell_type": "code",
   "execution_count": null,
   "metadata": {},
   "outputs": [],
   "source": [
    "#10. Crea una lista de números y solicita al usuario ingresar un índice para acceder a un elemento de la lista. Maneja la excepción si el índice está fuera de rango."
   ]
  },
  {
   "cell_type": "code",
   "execution_count": 4,
   "metadata": {},
   "outputs": [
    {
     "data": {
      "text/plain": [
       "[1, 2, 3, 4, 5]"
      ]
     },
     "execution_count": 4,
     "metadata": {},
     "output_type": "execute_result"
    }
   ],
   "source": [
    "lista = [1,2,\"hola\",4,5]\n",
    "\n",
    "for i in range(len(lista)):\n",
    "    if lista[i] == \"hola\":\n",
    "        lista[i] = 3\n",
    "\n",
    "lista"
   ]
  }
 ],
 "metadata": {
  "kernelspec": {
   "display_name": "base",
   "language": "python",
   "name": "python3"
  },
  "language_info": {
   "codemirror_mode": {
    "name": "ipython",
    "version": 3
   },
   "file_extension": ".py",
   "mimetype": "text/x-python",
   "name": "python",
   "nbconvert_exporter": "python",
   "pygments_lexer": "ipython3",
   "version": "3.12.4"
  }
 },
 "nbformat": 4,
 "nbformat_minor": 2
}
