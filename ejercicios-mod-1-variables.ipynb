{
 "cells": [
  {
   "cell_type": "markdown",
   "metadata": {},
   "source": [
    "Ejercicios Modulo 1 - Variables"
   ]
  },
  {
   "cell_type": "code",
   "execution_count": 4,
   "metadata": {},
   "outputs": [
    {
     "ename": "NameError",
     "evalue": "name 'print' is not defined",
     "output_type": "error",
     "traceback": [
      "\u001b[0;31m---------------------------------------------------------------------------\u001b[0m",
      "\u001b[0;31mNameError\u001b[0m                                 Traceback (most recent call last)",
      "Cell \u001b[0;32mIn[4], line 1\u001b[0m\n\u001b[0;32m----> 1\u001b[0m \u001b[38;5;28;01mdel\u001b[39;00m \u001b[38;5;28mprint\u001b[39m\n",
      "\u001b[0;31mNameError\u001b[0m: name 'print' is not defined"
     ]
    }
   ],
   "source": [
    "del print  # Elimina la sobrescritura si la hiciste accidentalmente\n"
   ]
  },
  {
   "cell_type": "code",
   "execution_count": 5,
   "metadata": {},
   "outputs": [],
   "source": [
    "# 1. Crea la variable `gatos` que sea un número con el valor `8`.\n",
    "gatos = 8 "
   ]
  },
  {
   "cell_type": "code",
   "execution_count": 6,
   "metadata": {},
   "outputs": [],
   "source": [
    "#2. Crea la variable `perros`  que sea un texto de seis caracteres: la palabra `cuatro`.\n",
    "perros = \"cuatro\""
   ]
  },
  {
   "cell_type": "code",
   "execution_count": 7,
   "metadata": {},
   "outputs": [
    {
     "name": "stdout",
     "output_type": "stream",
     "text": [
      "8\n"
     ]
    }
   ],
   "source": [
    "#3. Imprime la variable `gatos`.\n",
    "print (gatos)"
   ]
  },
  {
   "cell_type": "code",
   "execution_count": 8,
   "metadata": {},
   "outputs": [
    {
     "name": "stdout",
     "output_type": "stream",
     "text": [
      "cuatro\n"
     ]
    }
   ],
   "source": [
    "#4. Imprime la variable `perros`.\n",
    "print (perros)"
   ]
  },
  {
   "cell_type": "code",
   "execution_count": 9,
   "metadata": {},
   "outputs": [
    {
     "name": "stdout",
     "output_type": "stream",
     "text": [
      "cuatro más cuatro\n"
     ]
    }
   ],
   "source": [
    "#5. Imprime la variable `perros` seguida por la palabra `más` y la palabra `perros` otra vez.\n",
    "print (perros + ' ' + 'más' + ' ' + perros)"
   ]
  },
  {
   "cell_type": "code",
   "execution_count": 10,
   "metadata": {},
   "outputs": [
    {
     "name": "stdout",
     "output_type": "stream",
     "text": [
      "cuatro más cuatro es igual a 8\n"
     ]
    }
   ],
   "source": [
    "#6. Consigue que el ordenador devuelva el siguiente texto, usando la variable `perros`: `cuatro más cuatro es igual a 8`.\n",
    "print (perros, 'más',  perros, 'es igual a 8')"
   ]
  },
  {
   "cell_type": "code",
   "execution_count": 11,
   "metadata": {},
   "outputs": [
    {
     "name": "stdout",
     "output_type": "stream",
     "text": [
      "cuatro + cuatro = 8\n"
     ]
    }
   ],
   "source": [
    "#7. Consigue que el ordenador devuelva el siguiente texto, usando la variable`perros`: `cuatro + cuatro = 8`.\n",
    "print (perros + ' ' + '+' + ' ' + perros + ' ' + '=' + ' ' + '8')"
   ]
  },
  {
   "cell_type": "code",
   "execution_count": 12,
   "metadata": {},
   "outputs": [],
   "source": [
    "#8. Define una variable `pizzas` con un valor `2` que sea del tipo float.\n",
    "pizzas = 2.00"
   ]
  },
  {
   "cell_type": "code",
   "execution_count": 13,
   "metadata": {},
   "outputs": [],
   "source": [
    "#9. Define `magdalenas` con un valor `2` que sea del tipo string.\n",
    "magdalenas = '2'"
   ]
  },
  {
   "cell_type": "code",
   "execution_count": 14,
   "metadata": {},
   "outputs": [],
   "source": [
    "#10. Define `postres` con un valor `0` que sea del tipo int.\n",
    "postres = 0"
   ]
  },
  {
   "cell_type": "code",
   "execution_count": 15,
   "metadata": {},
   "outputs": [
    {
     "name": "stdout",
     "output_type": "stream",
     "text": [
      "<class 'float'>\n"
     ]
    }
   ],
   "source": [
    "#11. ¿Qué tipo de dato es la variable `pizzas`?\n",
    "print(type(pizzas))"
   ]
  },
  {
   "cell_type": "code",
   "execution_count": 16,
   "metadata": {},
   "outputs": [
    {
     "name": "stdout",
     "output_type": "stream",
     "text": [
      "True\n"
     ]
    }
   ],
   "source": [
    "#12. ¿Es la variable `magdalenas` de tipo string?\n",
    "print(isinstance(magdalenas,str))"
   ]
  },
  {
   "cell_type": "code",
   "execution_count": 17,
   "metadata": {},
   "outputs": [
    {
     "name": "stdout",
     "output_type": "stream",
     "text": [
      "0\n"
     ]
    }
   ],
   "source": [
    "#13. Define `postres` con un valor `0`.\n",
    "print(postres)"
   ]
  },
  {
   "cell_type": "code",
   "execution_count": 18,
   "metadata": {},
   "outputs": [
    {
     "name": "stdout",
     "output_type": "stream",
     "text": [
      "10.0\n"
     ]
    }
   ],
   "source": [
    "#14. Calcula la suma de `gatos` y `pizzas`.\n",
    "print(gatos + pizzas)"
   ]
  },
  {
   "cell_type": "code",
   "execution_count": 19,
   "metadata": {},
   "outputs": [
    {
     "name": "stdout",
     "output_type": "stream",
     "text": [
      "6.0\n"
     ]
    }
   ],
   "source": [
    "#15. Calcula la diferencia entre `gatos` y `pizzas`.\n",
    "print(gatos - pizzas)"
   ]
  },
  {
   "cell_type": "code",
   "execution_count": 20,
   "metadata": {},
   "outputs": [
    {
     "name": "stdout",
     "output_type": "stream",
     "text": [
      "16\n"
     ]
    }
   ],
   "source": [
    "#16. Multiplica las cantidad de gatos por 2.\n",
    "print(gatos*2)"
   ]
  },
  {
   "cell_type": "code",
   "execution_count": 21,
   "metadata": {},
   "outputs": [],
   "source": [
    "#17. Crea una variable `piezas` que sea 8 veces la cantidad de `pizzas`.\n",
    "piezas = pizzas * 8\n"
   ]
  },
  {
   "cell_type": "code",
   "execution_count": 22,
   "metadata": {},
   "outputs": [
    {
     "name": "stdout",
     "output_type": "stream",
     "text": [
      "16.0\n"
     ]
    }
   ],
   "source": [
    "print(piezas)"
   ]
  },
  {
   "cell_type": "code",
   "execution_count": 23,
   "metadata": {},
   "outputs": [],
   "source": [
    "#18. Haz que la cantidad de `piezas` se aumente en 3.\n",
    "piezas_aumentada = piezas + 3"
   ]
  },
  {
   "cell_type": "code",
   "execution_count": 24,
   "metadata": {},
   "outputs": [],
   "source": [
    "#19. Calcula el cuadrado de 9 y guárdalo en una variable llamada `superficie`.\n",
    "superficie = 9**2\n",
    "# print(superficie)"
   ]
  },
  {
   "cell_type": "code",
   "execution_count": 25,
   "metadata": {},
   "outputs": [
    {
     "name": "stdout",
     "output_type": "stream",
     "text": [
      "10.125\n"
     ]
    }
   ],
   "source": [
    "#20. ¿Cuánta superficie hay por gato?\n",
    "print(superficie / gatos)"
   ]
  },
  {
   "cell_type": "code",
   "execution_count": 26,
   "metadata": {},
   "outputs": [
    {
     "name": "stdout",
     "output_type": "stream",
     "text": [
      "2\n"
     ]
    }
   ],
   "source": [
    "#21. ¿Cuántas piezas enteras hay por gato?\n",
    "print(round(piezas_aumentada / gatos))"
   ]
  },
  {
   "cell_type": "code",
   "execution_count": 86,
   "metadata": {},
   "outputs": [
    {
     "name": "stdout",
     "output_type": "stream",
     "text": [
      "-149.0\n"
     ]
    }
   ],
   "source": [
    "#22. ¿Cuántas piezas te quedan si cada gato se come 21 piezas?\n",
    "piezas_sobran = piezas_aumentada - (gatos * 21)\n",
    "print(piezas_sobran)"
   ]
  },
  {
   "cell_type": "code",
   "execution_count": 87,
   "metadata": {},
   "outputs": [
    {
     "name": "stdout",
     "output_type": "stream",
     "text": [
      "10.1\n"
     ]
    }
   ],
   "source": [
    "#23. ¿Cuánta superficie hay por gato en metros cuadrados? Redondeala a un sólo decimal. Intenta calcularlo dentro del mismo `print()` en una sola línea.\n",
    "print(round(superficie/gatos,1))\n"
   ]
  },
  {
   "cell_type": "code",
   "execution_count": 93,
   "metadata": {},
   "outputs": [
    {
     "name": "stdout",
     "output_type": "stream",
     "text": [
      "es verdad\n"
     ]
    }
   ],
   "source": [
    "#24. ¿Es verdad que hay más gatos que pizzas?\n",
    "if gatos > pizzas:\n",
    "    print('es verdad')\n",
    "else:\n",
    "    print('no es verdad')"
   ]
  },
  {
   "cell_type": "code",
   "execution_count": 94,
   "metadata": {},
   "outputs": [
    {
     "name": "stdout",
     "output_type": "stream",
     "text": [
      "es verdad\n"
     ]
    }
   ],
   "source": [
    "# 25. ¿Es verdad que hay menos gatos que superficie?\n",
    "if gatos < superficie:\n",
    "    print('es verdad')\n",
    "else:\n",
    "    print('no es verdad')"
   ]
  },
  {
   "cell_type": "code",
   "execution_count": 95,
   "metadata": {},
   "outputs": [
    {
     "name": "stdout",
     "output_type": "stream",
     "text": [
      "es verdad\n"
     ]
    }
   ],
   "source": [
    "# 26. ¿Es verdad que 2 veces la cantidad de pizzas es distinto de la cantidad de gatos?\n",
    "if (pizzas * 2) != gatos:\n",
    "    print('es verdad')\n",
    "else:\n",
    "    print('no es verdad')"
   ]
  },
  {
   "cell_type": "code",
   "execution_count": 98,
   "metadata": {},
   "outputs": [
    {
     "name": "stdout",
     "output_type": "stream",
     "text": [
      "frase verdadera\n"
     ]
    }
   ],
   "source": [
    "# 27. ¿Es falso que 2 veces la cantidad de pizzas es igual a la cantidad de gatos?\n",
    "if (pizzas * 2) == gatos:\n",
    "    print('frase falsa')\n",
    "else:\n",
    "    print('frase verdadera')\n"
   ]
  },
  {
   "cell_type": "code",
   "execution_count": 102,
   "metadata": {},
   "outputs": [
    {
     "name": "stdout",
     "output_type": "stream",
     "text": [
      "True\n"
     ]
    }
   ],
   "source": [
    "# 28. La variable `piezas`, es mayor o igual a `pizzas` y `superficie` es distinto de cero?\n",
    "print(piezas >= pizzas\n",
    "      and superficie != 0)"
   ]
  },
  {
   "cell_type": "code",
   "execution_count": 103,
   "metadata": {},
   "outputs": [
    {
     "name": "stdout",
     "output_type": "stream",
     "text": [
      "True\n"
     ]
    }
   ],
   "source": [
    "# 29. La variable `piezas`, es mayor o igual a `pizzas` y menor que `superficie`?\n",
    "print(piezas >= pizzas\n",
    "      and piezas < superficie)\n"
   ]
  },
  {
   "cell_type": "code",
   "execution_count": 105,
   "metadata": {},
   "outputs": [
    {
     "name": "stdout",
     "output_type": "stream",
     "text": [
      "2.0\n"
     ]
    }
   ],
   "source": [
    "# 30. Me interesa saber si hay más pizzas que gatos, o si el residuo de piezas por gato es cero.\n",
    "print( pizzas > gatos\n",
    "      or piezas / gatos )"
   ]
  },
  {
   "cell_type": "code",
   "execution_count": 106,
   "metadata": {},
   "outputs": [
    {
     "name": "stdout",
     "output_type": "stream",
     "text": [
      "True\n"
     ]
    }
   ],
   "source": [
    "# 31. Comprueba las comparaciones de 29. en una sola línea, sin usar la variable `piezas` más que una sola vez.\n",
    "print(pizzas <= piezas < superficie)\n"
   ]
  },
  {
   "cell_type": "code",
   "execution_count": 107,
   "metadata": {},
   "outputs": [
    {
     "name": "stdout",
     "output_type": "stream",
     "text": [
      "True\n"
     ]
    },
    {
     "name": "stderr",
     "output_type": "stream",
     "text": [
      "<>:2: SyntaxWarning: \"is not\" with 'int' literal. Did you mean \"!=\"?\n",
      "<>:2: SyntaxWarning: \"is not\" with 'int' literal. Did you mean \"!=\"?\n",
      "/tmp/ipykernel_32715/3773851167.py:2: SyntaxWarning: \"is not\" with 'int' literal. Did you mean \"!=\"?\n",
      "  print(superficie is not 0)\n"
     ]
    }
   ],
   "source": [
    "# 32. Comprueba si `superficie` es diferente a cero sin usar `!=`.\n",
    "print(superficie is not 0)\n",
    "\n",
    "# En versiones más recientes de Python, podrías ver advertencias o resultados inesperados al usar is\n",
    "# con números como 0, ya que is está diseñado para identificar objetos, no para comparaciones numéricas."
   ]
  },
  {
   "cell_type": "code",
   "execution_count": 113,
   "metadata": {},
   "outputs": [
    {
     "name": "stdout",
     "output_type": "stream",
     "text": [
      "el día de tu cumpleaños es 21\n"
     ]
    }
   ],
   "source": [
    "# 33. Usa `input()` para preguntar a un usuario el día de su cumpleaños y guarda la respuesta en la variable dia_cumple.\n",
    "dia_cumple = input('Cuál es el día de tu cumple?')\n",
    "print(f'el día de tu cumpleaños es', dia_cumple)"
   ]
  },
  {
   "cell_type": "code",
   "execution_count": 115,
   "metadata": {},
   "outputs": [
    {
     "name": "stdout",
     "output_type": "stream",
     "text": [
      "el mes de tu cumpleaños es junio\n"
     ]
    }
   ],
   "source": [
    "# 34. Usa `input()` para preguntar a un usuario el mes de su cumpleaños y guarda la respuesta en la variable mes_cumple.\n",
    "mes_cumple = input('Cuál es el mes de tu cumple?')\n",
    "print(f'el mes de tu cumpleaños es', mes_cumple)"
   ]
  },
  {
   "cell_type": "code",
   "execution_count": 116,
   "metadata": {},
   "outputs": [
    {
     "name": "stdout",
     "output_type": "stream",
     "text": [
      "21\n",
      "junio\n"
     ]
    }
   ],
   "source": [
    "# 35. Usa `.strip()` en ambas de las variables definidas.\n",
    "print(dia_cumple.strip())\n",
    "print(mes_cumple.strip())"
   ]
  },
  {
   "cell_type": "code",
   "execution_count": 120,
   "metadata": {},
   "outputs": [
    {
     "name": "stdout",
     "output_type": "stream",
     "text": [
      "El día de tu cumple es 21 y el mes es junio.\n"
     ]
    }
   ],
   "source": [
    "# 36. Haz que `fecha_cumple` sea un *string* compuesto por el día y el mes.\n",
    "fecha_cumple = 'El día de tu cumple es ' + dia_cumple + ' y el mes es ' + mes_cumple +'.'\n",
    "print(fecha_cumple)"
   ]
  },
  {
   "cell_type": "code",
   "execution_count": 122,
   "metadata": {},
   "outputs": [
    {
     "name": "stdout",
     "output_type": "stream",
     "text": [
      "Fecha de cumpleaños es 21 junio\n"
     ]
    }
   ],
   "source": [
    "# 37. Imprime `Fecha de cumpleaños es` más el día y el mes.\n",
    "print(f'Fecha de cumpleaños es', dia_cumple, mes_cumple)"
   ]
  },
  {
   "cell_type": "code",
   "execution_count": 123,
   "metadata": {},
   "outputs": [
    {
     "name": "stdout",
     "output_type": "stream",
     "text": [
      "CUATRO\n"
     ]
    }
   ],
   "source": [
    "# 38. Imprime la variable perros en todas mayúsculas.\"\"\n",
    "print(perros.upper())"
   ]
  }
 ],
 "metadata": {
  "kernelspec": {
   "display_name": "base",
   "language": "python",
   "name": "python3"
  },
  "language_info": {
   "codemirror_mode": {
    "name": "ipython",
    "version": 3
   },
   "file_extension": ".py",
   "mimetype": "text/x-python",
   "name": "python",
   "nbconvert_exporter": "python",
   "pygments_lexer": "ipython3",
   "version": "3.12.4"
  }
 },
 "nbformat": 4,
 "nbformat_minor": 2
}
