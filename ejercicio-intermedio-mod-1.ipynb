{
 "cells": [
  {
   "cell_type": "markdown",
   "metadata": {},
   "source": [
    "Evaluación Intermedia Módulo 1"
   ]
  },
  {
   "cell_type": "markdown",
   "metadata": {},
   "source": [
    "Parte 1: Strings"
   ]
  },
  {
   "cell_type": "code",
   "execution_count": 128,
   "metadata": {},
   "outputs": [
    {
     "name": "stdout",
     "output_type": "stream",
     "text": [
      "p\n",
      "La letra p esta presente en la cadena 4 veces\n"
     ]
    }
   ],
   "source": [
    "# 1.Dada una cadena de texto, contar cuántas veces aparece una letra específica en ella. Usa un input para que el usuario elija la letra a buscar.\n",
    "\n",
    "cadena = \"Python es un lenguaje de programación muy popular\"\n",
    "\n",
    "letra_elegida = input(\"¿Eliga cual letra quieres contar?\")\n",
    "print (letra_elegida)\n",
    "\n",
    "\n",
    "cantidad_letra = cadena.lower().count(letra_elegida)\n",
    "print(f\"La letra {letra_elegida} esta presente en la cadena {cantidad_letra} veces\")\n"
   ]
  },
  {
   "cell_type": "code",
   "execution_count": 11,
   "metadata": {},
   "outputs": [
    {
     "name": "stdout",
     "output_type": "stream",
     "text": [
      "genial\n",
      "dificil\n",
      "La cadena modificada sería así: Python es dificil. Python es fácil de aprender.\n"
     ]
    }
   ],
   "source": [
    "# 2.Escribe un programa que tome la siguiente cadena de texto y reemplace una palabra específica por otra palabra. La palabra a reemplazar y reemplazada deben ser elegidas por el usuario.\n",
    "\n",
    "cadena = \"Python es genial. Python es fácil de aprender.\"\n",
    "\n",
    "palabra_elegida = input(\"¿Eliga cual palabra quieres que sea reeplazada?\")\n",
    "print (palabra_elegida)\n",
    "\n",
    "nueva_palabra = input (\"Introduce la nueva palabra:\")\n",
    "print(nueva_palabra)\n",
    "\n",
    "cadena2 = cadena.replace(palabra_elegida,nueva_palabra)\n",
    "\n",
    "#nueva cadena\n",
    "print(f\"La cadena modificada sería así: {cadena2}\")\n",
    "\n"
   ]
  },
  {
   "cell_type": "code",
   "execution_count": 21,
   "metadata": {},
   "outputs": [
    {
     "name": "stdout",
     "output_type": "stream",
     "text": [
      "Así es la lista con las palabras de la oración: ['Esto', 'es', 'una', 'oración', 'de', 'ejemplo']\n",
      "Esto es una oración de ejemplo\n"
     ]
    }
   ],
   "source": [
    "# 3.Toma la siguiente oración y divídela en una lista de palabras. Luego, únelas nuevamente en una sola cadena de texto.\n",
    "\n",
    "oracion = \"Esto es una oración de ejemplo\"\n",
    "\n",
    "lista1 = oracion.split()\n",
    "print (f\"Así es la lista con las palabras de la oración: {lista1}\")\n",
    "\n",
    "oracion2 = \" \".join(lista1)\n",
    "print(oracion2)\n",
    "\n"
   ]
  },
  {
   "cell_type": "code",
   "execution_count": 1,
   "metadata": {},
   "outputs": [
    {
     "name": "stdout",
     "output_type": "stream",
     "text": [
      "['Esta', 'es', 'una', 'cadena', 'con', 'cinco', 'palabras']\n",
      "La cantidad de palabras que hay en esta cadena es: 7\n"
     ]
    }
   ],
   "source": [
    "#4. Desarrolla un programa que cuente cuántas palabras hay en la siguiente frase.\n",
    "\n",
    "cadena = \"Esta es una cadena con cinco palabras\"\n",
    "\n",
    "lista_palabra = cadena.split()\n",
    "\n",
    "print(lista_palabra)\n",
    "\n",
    "cantidad_palabra = len(lista_palabra)\n",
    "\n",
    "print(f\"La cantidad de palabras que hay en esta cadena es: {cantidad_palabra}\")"
   ]
  },
  {
   "cell_type": "code",
   "execution_count": 30,
   "metadata": {},
   "outputs": [
    {
     "name": "stdout",
     "output_type": "stream",
     "text": [
      "El usuario ha elegido esta frase: hola soy iara\n",
      "esta es la lista de las palabras de la frase del usuario: ['hola', 'soy', 'iara']\n",
      "así es la lista de palabras invertidas: ['iara', 'soy', 'hola']\n",
      "Esta es la frase invertida del usuario: iara soy hola\n"
     ]
    }
   ],
   "source": [
    "#5. Escribe un programa que invierta una cadena de texto dada por un usuario. Mira el siguiente ejemplo para entender lo que se pide:\n",
    "\n",
    "# input\n",
    "\"Hola buenos dias\"\n",
    "# output\n",
    "\"dias buenos Hola\"\n",
    "\n",
    "frase_usuario = input(\"Por favor, introduce una frase:\")\n",
    "print(f\"El usuario ha elegido esta frase: {frase_usuario}\")\n",
    "\n",
    "lista_frase_usuario = frase_usuario.split()\n",
    "print(f\"esta es la lista de las palabras de la frase del usuario: {lista_frase_usuario}\")\n",
    "\n",
    "#inverter el orden de las palabras en la lista:\n",
    "lista_frase_usuario.reverse()\n",
    "print(f\"así es la lista de palabras invertidas: {lista_frase_usuario}\")\n",
    "\n",
    "#Lista invertida en frase:\n",
    "frase_invertida = \" \".join(lista_frase_usuario)\n",
    "print(f\"Esta es la frase invertida del usuario: {frase_invertida}\")\n"
   ]
  },
  {
   "cell_type": "code",
   "execution_count": 36,
   "metadata": {},
   "outputs": [
    {
     "name": "stdout",
     "output_type": "stream",
     "text": [
      "La palabra que tenemos que buscar en la cadena es: fácil\n",
      "La posición de la palabra fácil es 28\n"
     ]
    }
   ],
   "source": [
    "# 6.Crea un programa que busque una palabra específica(elegida por la usuaria) en una cadena de texto e indique su posición.\n",
    "\n",
    "cadena = \"Python es genial. Python es fácil de aprender.\"\n",
    "\n",
    "palabra_buscar = input(\"Introduce la palabra que deseas buscar: \")\n",
    "print(f\"La palabra que tenemos que buscar en la cadena es: {palabra_buscar}\")\n",
    "\n",
    "# Encontrar la posición de la palabra en la cadena\n",
    "posicion = cadena.find(palabra_buscar)\n",
    "\n",
    "print(f\"La posición de la palabra {palabra_buscar} es {posicion}\")\n",
    "\n"
   ]
  },
  {
   "cell_type": "markdown",
   "metadata": {},
   "source": [
    "Parte 2: Listas"
   ]
  },
  {
   "cell_type": "code",
   "execution_count": 39,
   "metadata": {},
   "outputs": [
    {
     "name": "stdout",
     "output_type": "stream",
     "text": [
      "['manzana', 'durazno', 'banana', 'uva', 'kiwi']\n",
      "['manzana', 'durazno', 'banana', 'uva', 'kiwi', 'naranja']\n",
      "El tercer elemento de la lista de frutas es banana\n"
     ]
    }
   ],
   "source": [
    "# 1.Dada la siguiente lista: \n",
    "frutas = ['manzana', 'pera', 'banana', 'uva', 'kiwi'] #realiza lo siguiente:\n",
    "\n",
    "#a) Reemplaza el segundo elemento con 'durazno'.\n",
    "\n",
    "frutas[1] = 'durazno'\n",
    "print(frutas)\n",
    "\n",
    "#b) Agrega 'naranja' al final de la lista.\n",
    "frutas.append('naranja')\n",
    "print(frutas)\n",
    "\n",
    "#c) Extrae y muestra por pantalla el tercer elemento de la lista.\n",
    "print(f\"El tercer elemento de la lista de frutas es {frutas[2]}\")\n",
    "\n"
   ]
  },
  {
   "cell_type": "code",
   "execution_count": 48,
   "metadata": {},
   "outputs": [
    {
     "name": "stdout",
     "output_type": "stream",
     "text": [
      "[10, 25, 15, 30, 20]\n"
     ]
    }
   ],
   "source": [
    "# 2.Crea una lista llamada numeros que contenga los siguientes valores: 10, 25, 15, 30, 20.\n",
    "\n",
    "numeros = [10,25,15,30,20]\n",
    "print(numeros)"
   ]
  },
  {
   "cell_type": "code",
   "execution_count": 49,
   "metadata": {},
   "outputs": [
    {
     "name": "stdout",
     "output_type": "stream",
     "text": [
      "[35, 10, 25, 15, 30, 20]\n"
     ]
    }
   ],
   "source": [
    "# 3. Agrega el valor 35 al incio de la lista numeros.\n",
    "\n",
    "numeros = [35] + numeros\n",
    "print(numeros)"
   ]
  },
  {
   "cell_type": "code",
   "execution_count": 50,
   "metadata": {},
   "outputs": [
    {
     "name": "stdout",
     "output_type": "stream",
     "text": [
      "La lista de numeros ordenado de manera ascendente es así [10, 15, 20, 25, 30, 35]\n"
     ]
    }
   ],
   "source": [
    "# 4. Ordena la lista numeros en orden ascendente.\n",
    "\n",
    "numeros_ordenados = sorted(numeros)\n",
    "print(f\"La lista de numeros ordenado de manera ascendente es así {numeros_ordenados}\")"
   ]
  },
  {
   "cell_type": "code",
   "execution_count": 52,
   "metadata": {},
   "outputs": [
    {
     "name": "stdout",
     "output_type": "stream",
     "text": [
      "La unión de las dos listas: [35, 10, 25, 15, 30, 20, 45, 22, 19, 38, 29]\n"
     ]
    }
   ],
   "source": [
    "#5. Dada la siguiente lista numeros2 = [45, 22, 19, 38, 29]. Crea una nueva lista llamada numeros3 donde tengamos la unión de los todos los elementos de las dos listas (numeros y numeros2) de tal forma que el resultado final sea: numeros3 = [10, 25, 15, 30, 20, 45, 22, 19, 38, 29]\n",
    "\n",
    "numeros2 = [45, 22, 19, 38, 29]\n",
    "\n",
    "numeros3 = numeros + numeros2\n",
    "\n",
    "print(f\"La unión de las dos listas: {numeros3}\")"
   ]
  },
  {
   "cell_type": "code",
   "execution_count": 53,
   "metadata": {},
   "outputs": [
    {
     "name": "stdout",
     "output_type": "stream",
     "text": [
      "Elemento eliminado ha sido: 29\n",
      "La lista sin el último elemento es: [35, 10, 25, 15, 30, 20, 45, 22, 19, 38]\n"
     ]
    }
   ],
   "source": [
    "#6. Elimina el último elemento de la lista numeros3.\n",
    "\n",
    "ultimo_elemento = numeros3.pop()\n",
    "\n",
    "print(f\"Elemento eliminado ha sido: {ultimo_elemento}\")\n",
    "print(f\"La lista sin el último elemento es: {numeros3}\")\n"
   ]
  },
  {
   "cell_type": "code",
   "execution_count": 55,
   "metadata": {},
   "outputs": [
    {
     "name": "stdout",
     "output_type": "stream",
     "text": [
      "El indice del numero 30 es el 4\n",
      "La lista se quedara así: [35, 10, 25, 15, 20, 45, 22, 19, 38]\n"
     ]
    }
   ],
   "source": [
    "#7. Elimina el número 30 de la lista numeros3.\n",
    "\n",
    "indice = numeros3.index(30)\n",
    "print(f\"El indice del numero 30 es el {indice}\")\n",
    "\n",
    "elemento_eliminado = numeros3.pop(indice)\n",
    "print(f\"La lista se quedara así: {numeros3}\")"
   ]
  },
  {
   "cell_type": "markdown",
   "metadata": {},
   "source": [
    "Parte 3: Tuplas"
   ]
  },
  {
   "cell_type": "code",
   "execution_count": 56,
   "metadata": {},
   "outputs": [
    {
     "data": {
      "text/plain": [
       "tuple"
      ]
     },
     "execution_count": 56,
     "metadata": {},
     "output_type": "execute_result"
    }
   ],
   "source": [
    "# 1. Crea una tupla llamada colores que contenga los siguientes valores: 'rojo', 'verde', 'azul', 'amarillo', 'morado'.\n",
    "\n",
    "colores = ('rojo', 'verde', 'azul', 'amarillo', 'morado')\n",
    "type(colores)"
   ]
  },
  {
   "cell_type": "code",
   "execution_count": 57,
   "metadata": {},
   "outputs": [
    {
     "name": "stdout",
     "output_type": "stream",
     "text": [
      "El indice del color verde es: 1\n"
     ]
    }
   ],
   "source": [
    "# 2.Encuentra el índice de 'verde' en la tupla colores.\n",
    "\n",
    "indice_verde = colores.index('verde')\n",
    "print(f\"El indice del color verde es: {indice_verde}\")"
   ]
  },
  {
   "cell_type": "code",
   "execution_count": 59,
   "metadata": {},
   "outputs": [
    {
     "name": "stdout",
     "output_type": "stream",
     "text": [
      "El color azul aparece 1 veces en la lista.\n"
     ]
    }
   ],
   "source": [
    "# 3. ¿Cuántas veces aparece 'azul' en la tupla colores?\n",
    "\n",
    "veces_azul = colores.count('azul')\n",
    "print(f\"El color azul aparece {veces_azul} veces en la lista.\")"
   ]
  },
  {
   "cell_type": "code",
   "execution_count": 60,
   "metadata": {},
   "outputs": [
    {
     "ename": "TypeError",
     "evalue": "'tuple' object does not support item assignment",
     "output_type": "error",
     "traceback": [
      "\u001b[0;31m---------------------------------------------------------------------------\u001b[0m",
      "\u001b[0;31mTypeError\u001b[0m                                 Traceback (most recent call last)",
      "Cell \u001b[0;32mIn[60], line 3\u001b[0m\n\u001b[1;32m      1\u001b[0m \u001b[38;5;66;03m# 4.Añade el color \"morado\" a la tupla colores. ¿Qué ha pasado? ¿Por qué? Como podríamos añadir el elemento \"morado\".\u001b[39;00m\n\u001b[0;32m----> 3\u001b[0m colores[\u001b[38;5;241m5\u001b[39m] \u001b[38;5;241m=\u001b[39m \u001b[38;5;124m'\u001b[39m\u001b[38;5;124mmorado\u001b[39m\u001b[38;5;124m'\u001b[39m\n",
      "\u001b[0;31mTypeError\u001b[0m: 'tuple' object does not support item assignment"
     ]
    }
   ],
   "source": [
    "# 4.Añade el color \"morado\" a la tupla colores. ¿Qué ha pasado? ¿Por qué? Como podríamos añadir el elemento \"morado\".\n",
    "\n",
    "colores[5] = 'morado' #Genera un: TypeError: 'tuple' object does not support item assignment. Esto porque las tuplas son inmutables, no podemos añadir un elemento.\n",
    "\n"
   ]
  },
  {
   "cell_type": "code",
   "execution_count": 64,
   "metadata": {},
   "outputs": [
    {
     "name": "stdout",
     "output_type": "stream",
     "text": [
      "('rojo', 'verde', 'azul', 'amarillo', 'morado', 'morado')\n"
     ]
    }
   ],
   "source": [
    "\n",
    "colores = colores + ('morado',)\n",
    "\n",
    "print(colores)"
   ]
  },
  {
   "cell_type": "markdown",
   "metadata": {},
   "source": [
    "Parte 4: Diccionarios"
   ]
  },
  {
   "cell_type": "code",
   "execution_count": 68,
   "metadata": {},
   "outputs": [
    {
     "data": {
      "text/plain": [
       "dict"
      ]
     },
     "execution_count": 68,
     "metadata": {},
     "output_type": "execute_result"
    }
   ],
   "source": [
    "# 1. Crea un diccionario llamado frutas con las siguientes parejas clave-valor: o 'manzana': 2 o 'banana': 3 o 'uva': 5 o 'pera': 4\n",
    "\n",
    "frutas = {'manzana': 2,'banana': 3, 'uva': 5, 'pera': 4}\n",
    "type(frutas)"
   ]
  },
  {
   "cell_type": "code",
   "execution_count": 74,
   "metadata": {},
   "outputs": [
    {
     "name": "stdout",
     "output_type": "stream",
     "text": [
      "Todas las frutas del diccionario son: ['manzana', 'banana', 'uva', 'pera']\n"
     ]
    }
   ],
   "source": [
    "# 2. Saca una lista de todas las frutas en el diccionario.\n",
    "\n",
    "lista_frutas = list(frutas.keys())\n",
    "\n",
    "print(f\"Todas las frutas del diccionario son: {lista_frutas}\")"
   ]
  },
  {
   "cell_type": "code",
   "execution_count": 75,
   "metadata": {},
   "outputs": [
    {
     "name": "stdout",
     "output_type": "stream",
     "text": [
      "Todas las cantidades del diccionario son: [2, 3, 5, 4]\n"
     ]
    }
   ],
   "source": [
    "# 3. Saca una lista de todas las cantidades en el diccionario.\n",
    "\n",
    "lista_cantidades = list(frutas.values())\n",
    "\n",
    "print(f\"Todas las cantidades del diccionario son: {lista_cantidades}\")"
   ]
  },
  {
   "cell_type": "code",
   "execution_count": 78,
   "metadata": {},
   "outputs": [
    {
     "name": "stdout",
     "output_type": "stream",
     "text": [
      "La cantidad de manzanas que hay es 2.\n"
     ]
    }
   ],
   "source": [
    "# 4. ¿Qué cantidad de 'manzana' tenemos?. Si la clave 'manzana' no está presente, devuelve un mensaje diciendo \"No existe esa clave\".\n",
    "\n",
    "cantidad_manzana = frutas.get('manzana', 'No existe esa clave')\n",
    "print(f\"La cantidad de manzanas que hay es {cantidad_manzana}.\")\n"
   ]
  },
  {
   "cell_type": "code",
   "execution_count": 80,
   "metadata": {},
   "outputs": [
    {
     "name": "stdout",
     "output_type": "stream",
     "text": [
      "{'manzana': 2, 'banana': 3, 'uva': 5, 'pera': 4, 'kiwi': 6}\n"
     ]
    }
   ],
   "source": [
    "# 5. Agrega un nuevo par de clave-valor al diccionario frutas: 'kiwi' con una cantidad de 6.\n",
    "frutas['kiwi'] = 6\n",
    "\n",
    "print(frutas)"
   ]
  },
  {
   "cell_type": "code",
   "execution_count": 81,
   "metadata": {},
   "outputs": [
    {
     "name": "stdout",
     "output_type": "stream",
     "text": [
      "{'manzana': 2, 'banana': 3, 'uva': 8, 'pera': 4, 'kiwi': 6}\n"
     ]
    }
   ],
   "source": [
    "# 6. Cambia la cantidad de 'uva' a 8.\n",
    "frutas['uva'] = 8\n",
    "\n",
    "print(frutas)"
   ]
  },
  {
   "cell_type": "code",
   "execution_count": 82,
   "metadata": {},
   "outputs": [
    {
     "data": {
      "text/plain": [
       "dict"
      ]
     },
     "execution_count": 82,
     "metadata": {},
     "output_type": "execute_result"
    }
   ],
   "source": [
    "# 7. Crea un segundo diccionario llamado frutas_nuevas con las siguientes parejas clave-valor: o 'sandía': 7 o 'mango': 4\n",
    "\n",
    "frutas_nuevas = {'sandía': 7, 'mango': 4}\n",
    "type(frutas_nuevas)"
   ]
  },
  {
   "cell_type": "code",
   "execution_count": 91,
   "metadata": {},
   "outputs": [
    {
     "name": "stdout",
     "output_type": "stream",
     "text": [
      "<class 'dict'>\n",
      "El nuevo diccionario es: {'manzana': 2, 'banana': 3, 'uva': 8, 'pera': 4, 'kiwi': 6, 'sandía': 7, 'mango': 4}\n"
     ]
    }
   ],
   "source": [
    "# 8. Combinar los dos diccionarios frutas_nuevas y frutas en uno nuevos llamado frutas_total.\n",
    "\n",
    "frutas_total = frutas.copy()  # Hacer una copia del diccionario original\n",
    "frutas_total.update(frutas_nuevas)  # Combinar con frutas_nuevas\n",
    "\n",
    "print(type(frutas_total))\n",
    "\n",
    "print(f\"El nuevo diccionario es: {frutas_total}\")\n"
   ]
  },
  {
   "cell_type": "code",
   "execution_count": 92,
   "metadata": {},
   "outputs": [
    {
     "data": {
      "text/plain": [
       "('mango', 4)"
      ]
     },
     "execution_count": 92,
     "metadata": {},
     "output_type": "execute_result"
    }
   ],
   "source": [
    "# 9. Elimina el último par de clave-valor del diccionario fruta_total.\n",
    "\n",
    "frutas_total.popitem()\n"
   ]
  },
  {
   "cell_type": "code",
   "execution_count": 93,
   "metadata": {},
   "outputs": [
    {
     "data": {
      "text/plain": [
       "8"
      ]
     },
     "execution_count": 93,
     "metadata": {},
     "output_type": "execute_result"
    }
   ],
   "source": [
    "# 10. Elimina el par de clave-valor correspondiente a la clave 'uva' del diccionario.\n",
    "\n",
    "frutas_total.pop('uva')"
   ]
  },
  {
   "cell_type": "code",
   "execution_count": 94,
   "metadata": {},
   "outputs": [
    {
     "name": "stdout",
     "output_type": "stream",
     "text": [
      "{'manzana': 2, 'banana': 3, 'pera': 4, 'kiwi': 6, 'sandía': 7}\n"
     ]
    }
   ],
   "source": [
    "#11. Agregar la fruta 'manzana' con una cantidad de 10 al diccionario. Si ya existe, no se realizarán cambios en los valores que teníamos.\n",
    "\n",
    "fruta_extra = 'manzana'\n",
    "cantidad_extra = 10\n",
    "\n",
    "# Agregar la fruta solo si no existe\n",
    "if fruta_extra not in frutas_total:\n",
    "    frutas_total[fruta_extra] = cantidad_extra\n",
    "\n",
    "print(frutas_total) #verificar que ha pasado con el diccionario"
   ]
  },
  {
   "cell_type": "code",
   "execution_count": 96,
   "metadata": {},
   "outputs": [
    {
     "name": "stdout",
     "output_type": "stream",
     "text": [
      "[2, 3, 4, 6, 7]\n",
      "La suma total de las cantidades será: 22.\n",
      "La cantidad más grande de la lista es 7 y la más pequeña es 2.\n"
     ]
    }
   ],
   "source": [
    "#12. Combinar métodos de listas y diccionarios:\n",
    "\n",
    "# Obtén una lista de todas las cantidades en el diccionario y calcula suma total de las cantidades del diccionario frutas_total.\n",
    "\n",
    "lista_total = list(frutas_total.values())\n",
    "print(lista_total)\n",
    "\n",
    "suma_total = sum(lista_total)\n",
    "print (f\"La suma total de las cantidades será: {suma_total}.\")\n",
    "\n",
    "# Utilizando la lista creada en el apartado anterior encuentra la cantidad más grande y más pequeña.\n",
    "\n",
    "print(f\"La cantidad más grande de la lista es {max(lista_total)} y la más pequeña es {min(lista_total)}.\")\n"
   ]
  },
  {
   "cell_type": "markdown",
   "metadata": {},
   "source": [
    "Parte 5: Métodos de Sets"
   ]
  },
  {
   "cell_type": "code",
   "execution_count": 99,
   "metadata": {},
   "outputs": [
    {
     "data": {
      "text/plain": [
       "set"
      ]
     },
     "execution_count": 99,
     "metadata": {},
     "output_type": "execute_result"
    }
   ],
   "source": [
    "#13. Crea un set llamado conjunto1 con los números del 1 al 5.\n",
    "\n",
    "conjunto1 = {1, 2, 3, 4, 5}\n",
    "type(conjunto1)"
   ]
  },
  {
   "cell_type": "code",
   "execution_count": 100,
   "metadata": {},
   "outputs": [
    {
     "data": {
      "text/plain": [
       "set"
      ]
     },
     "execution_count": 100,
     "metadata": {},
     "output_type": "execute_result"
    }
   ],
   "source": [
    "# 14. Crea otro set llamado conjunto2 con los números del 4 al 8.\n",
    "\n",
    "conjunto2 = {4, 5, 6, 7, 8}\n",
    "type(conjunto2)"
   ]
  },
  {
   "cell_type": "code",
   "execution_count": 101,
   "metadata": {},
   "outputs": [
    {
     "name": "stdout",
     "output_type": "stream",
     "text": [
      "La unión de los dos conjuntos es: {1, 2, 3, 4, 5, 6, 7, 8}\n"
     ]
    }
   ],
   "source": [
    "# 15. Obtén la unión de conjunto1 y conjunto2.\n",
    "\n",
    "union_conjuntos = conjunto1.union(conjunto2)\n",
    "print(f\"La unión de los dos conjuntos es: {union_conjuntos}\")"
   ]
  },
  {
   "cell_type": "code",
   "execution_count": 102,
   "metadata": {},
   "outputs": [
    {
     "name": "stdout",
     "output_type": "stream",
     "text": [
      "La intersección de los dos conjuntos es: {4, 5}\n"
     ]
    }
   ],
   "source": [
    "#16. Obtén la intersección de conjunto1 y conjunto2.\n",
    "\n",
    "interseccion_conjuntos = conjunto1.intersection(conjunto2)\n",
    "print(f\"La intersección de los dos conjuntos es: {interseccion_conjuntos}\")"
   ]
  },
  {
   "cell_type": "code",
   "execution_count": 103,
   "metadata": {},
   "outputs": [
    {
     "name": "stdout",
     "output_type": "stream",
     "text": [
      "Los elementos que están en el conjunto1 y no en el conjunto2 son: {1, 2, 3}\n"
     ]
    }
   ],
   "source": [
    "# 17. Obtén los elementos que están en conjunto1 pero no en el conjunto2.\n",
    "\n",
    "elementos_diferentes = conjunto1.difference(conjunto2)\n",
    "print(f\"Los elementos que están en el conjunto1 y no en el conjunto2 son: {elementos_diferentes}\")"
   ]
  },
  {
   "cell_type": "markdown",
   "metadata": {},
   "source": [
    "Parte 6: Sentencias de Control"
   ]
  },
  {
   "cell_type": "code",
   "execution_count": 108,
   "metadata": {},
   "outputs": [
    {
     "name": "stdout",
     "output_type": "stream",
     "text": [
      "Tu edad es 65, por esto Eres adulto.\n"
     ]
    }
   ],
   "source": [
    "# Ejercicio 1: Evaluación de Edades:\n",
    "\n",
    "#Escribe un programa que solicite al usuario ingresar su edad.\n",
    "edad_usuario = int(input(\"Por favor, ingrese tu edad:\"))\n",
    "\n",
    "#Si la edad es menor de 18, muestra \"Eres menor de edad\".\n",
    "#Si la edad está entre 18 y 65 (incluyendo ambos extremos), muestra \"Eres adulto\".\n",
    "#Si la edad es mayor que 65, muestra \"Eres un adulto mayor\".\n",
    "\n",
    "if edad_usuario < 18:\n",
    "    print(f\"Tu edad es {edad_usuario}, por esto Eres menor de edad.\")\n",
    "\n",
    "elif 18 <= edad_usuario <= 65:\n",
    "    print(f\"Tu edad es {edad_usuario}, por esto Eres adulto.\")\n",
    "\n",
    "else:\n",
    "    print(f\"Tu edad es {edad_usuario}, por esto Eres un adulto mayor.\")"
   ]
  },
  {
   "cell_type": "code",
   "execution_count": 114,
   "metadata": {},
   "outputs": [
    {
     "name": "stdout",
     "output_type": "stream",
     "text": [
      "Número inválido. Por favor, ingresa un número del 1 al 7.\n"
     ]
    }
   ],
   "source": [
    "# Ejercicio 2: Determinación de Día de la Semana\n",
    "\n",
    "#Solicita al usuario que ingrese un número del 1 al 7.\n",
    "numero_usuario = input(\"Por favor, ingrese un número del 1 al 7:\")\n",
    "\n",
    "#Utilizando una serie de if-elif-else, muestra el día de la semana correspondiente al número ingresado. Por ejemplo, si ingresa 1, muestra \"Lunes\".\n",
    "if numero_usuario == 1:\n",
    "    print(f\"El día correspondiente al número elegido, {numero_usuario}, es Lunes\")\n",
    "\n",
    "elif numero_usuario == 2:\n",
    "    print(f\"El día correspondiente al número elegido, {numero_usuario}, es Martes\")\n",
    "\n",
    "elif numero_usuario == 3:\n",
    "    print(f\"El día correspondiente al número elegido, {numero_usuario}, es Miércoles\")\n",
    "\n",
    "elif numero_usuario == 4:\n",
    "    print(f\"El día correspondiente al número elegido, {numero_usuario}, es Jueves\")\n",
    "\n",
    "elif numero_usuario == 5:\n",
    "    print(f\"El día correspondiente al número elegido, {numero_usuario}, es Viernes\")\n",
    "\n",
    "elif numero_usuario == 6:\n",
    "    print(f\"El día correspondiente al número elegido, {numero_usuario}, es Sábado\")\n",
    "\n",
    "elif numero_usuario == 7:\n",
    "    print(f\"El día correspondiente al número elegido, {numero_usuario}, es Domingo\")\n",
    "    \n",
    "else:\n",
    "    print(\"Número inválido. Por favor, ingresa un número del 1 al 7.\")\n"
   ]
  },
  {
   "cell_type": "code",
   "execution_count": 126,
   "metadata": {},
   "outputs": [
    {
     "name": "stdout",
     "output_type": "stream",
     "text": [
      "El número aleatorio es: 10.\n",
      "El número es menor. Intenta nuevamente.\n",
      "El número es menor. Intenta nuevamente.\n",
      "El número es menor. Intenta nuevamente.\n",
      "El número es mayor. Intenta nuevamente.\n",
      "El número es menor. Intenta nuevamente.\n",
      "¡Ganaste! Adivinaste el número 10 en 6 intentos.\n"
     ]
    }
   ],
   "source": [
    "#Ejercicio 3: Juego de Adivinanza\n",
    "\n",
    "#Genera un número aleatorio entre 1 y 100.\n",
    "\n",
    "import random\n",
    "numero_aleatorio = random.randint (1,100)\n",
    "\n",
    "print (f\"El número aleatorio es: {numero_aleatorio}.\")\n",
    "\n",
    "#Pídele al usuario que adivine el número.\n",
    "#Si el usuario adivina correctamente en el primer intento, muestra \"¡Ganaste en el primer intento!\".\n",
    "#Si el usuario no adivina en el primer intento, bríndale pistas (mayor o menor) y permite que intente nuevamente. Muestra cuántos intentos le llevó al final.\n",
    "\n",
    "intentos = 0 # Inicializa el contador de intentos en 0.\n",
    "\n",
    "while True:\n",
    "\n",
    "    intentos +=1\n",
    "    intento_usuario = int(input(\"Adivina un número entre 1 y 100: \"))\n",
    "\n",
    "     # Comprueba si el intento del usuario coincide con el número aleatorio.\n",
    "    if intento_usuario == numero_aleatorio:\n",
    "        if intentos == 1:\n",
    "            print(\"Ganaste en el primer intento!\")\n",
    "        else:\n",
    "            print(f\"¡Ganaste! Adivinaste el número {numero_aleatorio} en {intentos} intentos.\")\n",
    "        break  # Sale del bucle ya que el usuario adivinó el número en el primer intento.\n",
    "\n",
    "    elif intento_usuario < numero_aleatorio:\n",
    "        print(\"El número es mayor. Intenta nuevamente.\")\n",
    "        \n",
    "    else:\n",
    "        print(\"El número es menor. Intenta nuevamente.\")\n"
   ]
  },
  {
   "cell_type": "code",
   "execution_count": null,
   "metadata": {},
   "outputs": [],
   "source": [
    "# Ejercicio 4: Juego de Adivinar la Palabra\n",
    "\n",
    "#Elige una palabra secreta y ocúltala utilizando asteriscos, por ejemplo, \"secreto\" se muestra como \"*******\".\n",
    "#Permite al usuario adivinar letras una por una.\n",
    "#Si la letra adivinada está en la palabra secreta, muestra la palabra con las letras descubiertas y los asteriscos.\n",
    "#Si la letra no está en la palabra secreta, resta una vida al jugador.\n",
    "#El juego continúa hasta que el jugador adivine la palabra.\n",
    "\n",
    "\n",
    "# Lista de palabras secretas\n",
    "palabras = [\"ordenador\"]\n",
    "# Elegir una palabra secreta al azar\n",
    "palabra_secreta = random.choice(palabras)\n",
    "\n"
   ]
  }
 ],
 "metadata": {
  "kernelspec": {
   "display_name": "base",
   "language": "python",
   "name": "python3"
  },
  "language_info": {
   "codemirror_mode": {
    "name": "ipython",
    "version": 3
   },
   "file_extension": ".py",
   "mimetype": "text/x-python",
   "name": "python",
   "nbconvert_exporter": "python",
   "pygments_lexer": "ipython3",
   "version": "undefined.undefined.undefined"
  }
 },
 "nbformat": 4,
 "nbformat_minor": 2
}
